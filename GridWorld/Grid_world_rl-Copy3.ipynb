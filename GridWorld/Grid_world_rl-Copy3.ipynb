{
 "cells": [
  {
   "cell_type": "code",
   "execution_count": 1,
   "metadata": {},
   "outputs": [],
   "source": [
    "from Gridworld import Gridworld\n",
    "game = Gridworld(size=4, mode='static')"
   ]
  },
  {
   "cell_type": "code",
   "execution_count": 2,
   "metadata": {},
   "outputs": [
    {
     "data": {
      "text/plain": [
       "array([['+', '-', ' ', 'P'],\n",
       "       [' ', 'W', ' ', ' '],\n",
       "       [' ', ' ', ' ', ' '],\n",
       "       [' ', ' ', ' ', ' ']], dtype='<U2')"
      ]
     },
     "execution_count": 2,
     "metadata": {},
     "output_type": "execute_result"
    }
   ],
   "source": [
    "game.display()"
   ]
  },
  {
   "cell_type": "code",
   "execution_count": 3,
   "metadata": {},
   "outputs": [
    {
     "data": {
      "text/plain": [
       "-1"
      ]
     },
     "execution_count": 3,
     "metadata": {},
     "output_type": "execute_result"
    }
   ],
   "source": [
    "game.makeMove('d')\n",
    "game.reward()"
   ]
  },
  {
   "cell_type": "code",
   "execution_count": 4,
   "metadata": {},
   "outputs": [
    {
     "data": {
      "text/plain": [
       "array([['+', '-', ' ', ' '],\n",
       "       [' ', 'W', ' ', ' '],\n",
       "       [' ', ' ', 'P', ' '],\n",
       "       [' ', ' ', ' ', ' ']], dtype='<U2')"
      ]
     },
     "execution_count": 4,
     "metadata": {},
     "output_type": "execute_result"
    }
   ],
   "source": [
    "game.makeMove('d')\n",
    "game.makeMove('l')\n",
    "game.display()"
   ]
  },
  {
   "cell_type": "code",
   "execution_count": 5,
   "metadata": {},
   "outputs": [],
   "source": [
    "import numpy as np\n",
    "import torch\n",
    "from Gridworld import Gridworld\n",
    "import random\n",
    "from matplotlib import pylab as plt\n",
    "from IPython.display import clear_output\n"
   ]
  },
  {
   "cell_type": "code",
   "execution_count": 6,
   "metadata": {},
   "outputs": [],
   "source": [
    "l1 = 64\n",
    "l2 = 150\n",
    "l3 = 100\n",
    "l4 = 4\n",
    " \n",
    "model = torch.nn.Sequential(\n",
    "    torch.nn.Linear(l1, l2),\n",
    "    torch.nn.ReLU(),\n",
    "    torch.nn.Linear(l2, l3),\n",
    "    torch.nn.ReLU(),\n",
    "    torch.nn.Linear(l3,l4)\n",
    ")\n",
    "loss_fn = torch.nn.MSELoss()\n",
    "learning_rate = 1e-3\n",
    "optimizer = torch.optim.Adam(model.parameters(), lr=learning_rate)\n",
    " \n",
    "gamma = 0.9\n",
    "epsilon = 1.0\n"
   ]
  },
  {
   "cell_type": "code",
   "execution_count": 7,
   "metadata": {},
   "outputs": [],
   "source": [
    "action_set = {\n",
    "    0: 'u',\n",
    "    1: 'd',\n",
    "    2: 'l',\n",
    "    3: 'r',\n",
    "}"
   ]
  },
  {
   "cell_type": "code",
   "execution_count": 8,
   "metadata": {},
   "outputs": [
    {
     "name": "stdout",
     "output_type": "stream",
     "text": [
      "999 0.008047071285545826\n"
     ]
    }
   ],
   "source": [
    "epochs = 1000\n",
    "losses = []\n",
    "\n",
    "#add noise to the state to help with over fitting, and no \"dead neurons\" for the ReLu since it is\n",
    "#non-differentiable at 0\n",
    "noise = np.random.rand(1,64)/10.0\n",
    "\n",
    "for i in range(epochs):\n",
    "    game = Gridworld(size=4, mode='static')\n",
    "    \n",
    "    #take the 4x4x4 board and make it a 1X64 vector seems like it adds some noise\n",
    "    state_ = game.board.render_np().reshape(1,64) + noise #D\n",
    "    state1 = torch.from_numpy(state_).float()\n",
    "    status = 1\n",
    "    while (status == 1):\n",
    "        \n",
    "        #feed the current state into the model\n",
    "        qval = model(state1)\n",
    "        \n",
    "        # change the result of a model pass into a numpy array\n",
    "        qval_ = qval.data.numpy() \n",
    "        \n",
    "        #pick a random direction if the random number is less then epsilon\n",
    "        # but we'll mostly pick the position in the action array that has the \n",
    "        # highest value\n",
    "        if (random.random() < epsilon):\n",
    "            action_ = np.random.randint(0, 4)\n",
    "        else:\n",
    "            action_ = np.argmax(qval_)\n",
    "        \n",
    "        #set the current action\n",
    "        action = action_set[action_]\n",
    "        \n",
    "        #do the action that was set\n",
    "        game.makeMove(action)\n",
    "        \n",
    "        #get another state and add some noise, then change it to a tensor\n",
    "        state2_ = game.board.render_np().reshape(1, 64) + noise\n",
    "        state2 = torch.from_numpy(state2_).float()\n",
    "        \n",
    "        \n",
    "        reward = game.reward()\n",
    "        \n",
    "        #disable gradient calculation , no computational graph becauuse we don't care about state 2 doing\n",
    "        #back prop only state 1\n",
    "        with torch.no_grad():\n",
    "            # send the next state to the model\n",
    "            newQ = model(state2.reshape(1, 64))\n",
    "            \n",
    "        # the max value int the tensor array aka maximum Q value predicted at this state\n",
    "        maxQ = torch.max(newQ)\n",
    "        \n",
    "        #calculates the target Q value \n",
    "        if reward == -1:\n",
    "            Y = reward + (gamma * maxQ)\n",
    "        else:\n",
    "            Y = reward\n",
    "        \n",
    "        \n",
    "        #use the .detach to avoid the copy, book says this is unnecessary because\n",
    "        #we already removed maxQ's computational graph\n",
    "        Y = torch.Tensor([Y]).detach()\n",
    "                \n",
    "        #Set the tensor array to match the current value\n",
    "        X = qval.squeeze()[action_]\n",
    "        \n",
    "        #find the mse of the X and Y\n",
    "        loss = loss_fn(X, Y)\n",
    "        \n",
    "        #zero out the gradient before back prop so pytorch doesn't accumulate the gradient on subsequent \n",
    "        #back passes\n",
    "        #https://stackoverflow.com/questions/48001598/why-do-we-need-to-call-zero-grad-in-pytorch\n",
    "        optimizer.zero_grad()\n",
    "        \n",
    "        #print the losses at each epoch, clear_output to only see the last loss per loop\n",
    "        print(i, loss.item())\n",
    "        clear_output(wait=True)\n",
    "\n",
    "        #https://stackoverflow.com/questions/53975717/pytorch-connection-between-loss-backward-and-optimizer-step\n",
    "\n",
    "      \n",
    "        #  loss.backward() sets the grad attribute of all tensors with requires_grad=True in the \n",
    "        #computational graph of which loss is the leaf (only x in this case).\n",
    "        loss.backward()\n",
    "        \n",
    "        #track the losses for plotting later\n",
    "        losses.append(loss.item())\n",
    "        \n",
    "        \n",
    "        #Optimizer just iterates through the list of parameters (tensors) it \n",
    "        #received on initialization and everywhere where a tensor has \n",
    "        #requires_grad=True, it subtracts the value of its gradient stored in its .grad property \n",
    "        optimizer.step()\n",
    "        state1 = state2\n",
    "        \n",
    "        #keep the while loop going until the game is won\n",
    "        if reward != -1:\n",
    "            status = 0\n",
    "            \n",
    "    #reduce epsilon at every epoch\n",
    "    if epsilon > 0.1:\n",
    "        epsilon -= (1/epochs)"
   ]
  },
  {
   "cell_type": "code",
   "execution_count": 30,
   "metadata": {},
   "outputs": [],
   "source": [
    "from collections import deque\n",
    "epochs = 5000\n",
    "losses = []\n",
    "mem_size = 1000\n",
    "batch_size = 200\n",
    "replay = deque(maxlen=mem_size)\n",
    "max_moves = 50           "
   ]
  },
  {
   "cell_type": "code",
   "execution_count": 31,
   "metadata": {},
   "outputs": [],
   "source": [
    "for epoch in range(epochs):\n",
    "    #print(\"epoch = \", epoch)\n",
    "    game = Gridworld(size=4, mode='random')\n",
    "    state1_ = game.board.render_np().reshape(1, 64) + np.random.rand(1, 64)/100.0\n",
    "    state1 = torch.from_numpy(state1_).float()\n",
    "    status = 1\n",
    "    mov = 0\n",
    "    while(status == 1):\n",
    "        mov += 1\n",
    "        \n",
    "        #feed the current state into the model\n",
    "        qval = model(state1)\n",
    "        \n",
    "        # change the result of a model pass into a numpy array\n",
    "        qval_ = qval.data.numpy()\n",
    "        \n",
    "        #pick a random direction if the random number is less then epsilon\n",
    "        # but we'll mostly pick the position in the action array that has the \n",
    "        # highest value\n",
    "        if (random.random() < epsilon):\n",
    "            action_ = np.random.randint(0, 4)\n",
    "        else:\n",
    "            action_ = np.argmax(qval_)\n",
    "        \n",
    "        #set the current action\n",
    "        action = action_set[action_]\n",
    "        \n",
    "        #do the action that was set\n",
    "        game.makeMove(action)\n",
    "        \n",
    "        #get another state and add some noise, then change it to a tensor\n",
    "        state2_ = state2_ = game.board.render_np().reshape(1,64) + np.random.rand(1,64)/100.0\n",
    "        state2 = torch.from_numpy(state2_).float()\n",
    "        \n",
    "        reward = game.reward()\n",
    "        \n",
    "        done = True if reward > 0 else False\n",
    "        \n",
    "        #store the experience in a tuple (s0, a0, r1, s1)\n",
    "        exp =  (state1, action_, reward, state2, done)     \n",
    "        \n",
    "        #append experience to the replay buffer deque\n",
    "        replay.append(exp) \n",
    "        \n",
    "        state1 = state2\n",
    "        \n",
    "        #if the replay list is at least as large as the minibatch size, begins the mini-batch training\n",
    "        if len(replay) > batch_size:\n",
    "            minibatch = random.sample(replay, batch_size)\n",
    "            state1_batch = torch.cat([s1 for (s1, a, r, s2, d) in minibatch])\n",
    "            action_batch = torch.Tensor([a for (s1, a, r, s2, d) in minibatch])\n",
    "            reward_batch = torch.Tensor([r for (s1, a, r, s2, d) in minibatch])\n",
    "            state2_batch = torch.cat([s2 for (s1, a, r, s2, d) in minibatch])\n",
    "            done_batch = torch.Tensor([d for (s1, a, r, s2, d) in minibatch])\n",
    "            #Recomputes Q values for minibatch of states to get gradient\n",
    "            Q1 = model(state1_batch)  \n",
    "        \n",
    "            #Recomputes Q values for next states, but doesn't computer gradient\n",
    "            with torch.no_grad():                \n",
    "                Q2 = model(state2_batch) \n",
    "                \n",
    "            # (1 - done_batch) sets the right side as 0 if the game is over\n",
    "            # torch.max(Q2, dim=1) returns an a list of softmax of each Q2, for each sample\n",
    "            # and a list of the index where it was found, this is why you do [0], to get the list of row maxes\n",
    "            # and drop the indicies for each sample\n",
    "            # ends up being a (1 X batch_size) + (1 X batch_size) vector addition\n",
    "            # so in this case it ends up as a size 200 row vector\n",
    "            Y = reward_batch + gamma * ((1 - done_batch) * torch.max(Q2,dim=1)[0])\n",
    "            \n",
    "            # to get the indicies we start with the 200 length row vector\n",
    "            # we use .unsqeeze(dim=1) to make it into a column vector of length 200 so size 200, 1\n",
    "            # the Q1 starts as a [200, 4] shaped matrix\n",
    "            # the .gather goes through each of the 4 columns for each row and returns the value that matches\n",
    "            # This makes it into a column vector of size [200, 1]\n",
    "            # To change it back into a row vector we use .squeeze()\n",
    "            X = Q1.gather(dim=1,index=action_batch.long().unsqueeze(dim=1)).squeeze()\n",
    "            \n",
    "            loss = loss_fn(X, Y.detach())\n",
    "            optimizer.zero_grad()\n",
    "            loss.backward()\n",
    "            losses.append(loss.item())\n",
    "            optimizer.step()\n",
    " \n",
    "        if reward != -1 or mov > max_moves:   \n",
    "            status = 0\n",
    "            mov = 0\n",
    "        \n",
    "losses = np.array(losses)      \n",
    "        \n",
    "\n",
    "            \n",
    "            \n",
    "        "
   ]
  },
  {
   "cell_type": "code",
   "execution_count": 16,
   "metadata": {},
   "outputs": [],
   "source": [
    "def test_model(model, mode='static', display=True):\n",
    "    i = 0\n",
    "    test_game = Gridworld(mode=mode)\n",
    "    state_ = test_game.board.render_np().reshape(1,64) + np.random.rand(1,64)/10.0\n",
    "    state = torch.from_numpy(state_).float()\n",
    "    if display:\n",
    "        print(\"Initial State:\")\n",
    "        print(test_game.display())\n",
    "    status = 1\n",
    "    while(status == 1): #A\n",
    "        qval = model(state)\n",
    "        qval_ = qval.data.numpy()\n",
    "        action_ = np.argmax(qval_) #B\n",
    "        action = action_set[action_]\n",
    "        if display:\n",
    "            print('Move #: %s; Taking action: %s' % (i, action))\n",
    "        test_game.makeMove(action)\n",
    "        state_ = test_game.board.render_np().reshape(1,64) + np.random.rand(1,64)/10.0\n",
    "        state = torch.from_numpy(state_).float()\n",
    "        if display:\n",
    "            print(test_game.display())\n",
    "        reward = test_game.reward()\n",
    "        if reward != -1:\n",
    "            if reward > 0:\n",
    "                status = 2\n",
    "                if display:\n",
    "                    print(\"Game won! Reward: %s\" % (reward,))\n",
    "            else:\n",
    "                status = 0\n",
    "                if display:\n",
    "                    print(\"Game LOST. Reward: %s\" % (reward,))\n",
    "        i += 1\n",
    "        if (i > 15):\n",
    "            if display:\n",
    "                print(\"Game lost; too many moves.\")\n",
    "            break\n",
    "    \n",
    "    win = True if status == 2 else False\n",
    "    return win"
   ]
  },
  {
   "cell_type": "code",
   "execution_count": 25,
   "metadata": {},
   "outputs": [
    {
     "data": {
      "text/plain": [
       "Text(0, 0.5, 'Loss')"
      ]
     },
     "execution_count": 25,
     "metadata": {},
     "output_type": "execute_result"
    },
    {
     "data": {
      "image/png": "[encoded data removed]",
      "text/plain": [
       "<Figure size 720x504 with 1 Axes>"
      ]
     },
     "metadata": {
      "needs_background": "light"
     },
     "output_type": "display_data"
    }
   ],
   "source": [
    "plt.figure(figsize=(10,7))\n",
    "plt.plot(losses)\n",
    "plt.xlabel(\"Epochs\",fontsize=22)\n",
    "plt.ylabel(\"Loss\",fontsize=22)    "
   ]
  },
  {
   "cell_type": "code",
   "execution_count": 28,
   "metadata": {},
   "outputs": [
    {
     "name": "stdout",
     "output_type": "stream",
     "text": [
      "Games played: 1000, # of wins: 762\n",
      "Win percentage: 76.2%\n"
     ]
    }
   ],
   "source": [
    "max_games = 1000\n",
    "wins = 0\n",
    "for i in range(max_games):\n",
    "    win = test_model(model, mode='random', display=False)\n",
    "    if win:\n",
    "        wins += 1\n",
    "win_perc = float(wins) / float(max_games)\n",
    "print(\"Games played: {0}, # of wins: {1}\".format(max_games,wins))\n",
    "print(\"Win percentage: {}%\".format(100.0*win_perc))"
   ]
  },
  {
   "cell_type": "code",
   "execution_count": null,
   "metadata": {},
   "outputs": [],
   "source": []
  }
 ],
 "metadata": {
  "kernelspec": {
   "display_name": "drlnd",
   "language": "python",
   "name": "deep-reinforcement-learning"
  },
  "language_info": {
   "codemirror_mode": {
    "name": "ipython",
    "version": 3
   },
   "file_extension": ".py",
   "mimetype": "text/x-python",
   "name": "python",
   "nbconvert_exporter": "python",
   "pygments_lexer": "ipython3",
   "version": "3.6.9"
  }
 },
 "nbformat": 4,
 "nbformat_minor": 4
}
